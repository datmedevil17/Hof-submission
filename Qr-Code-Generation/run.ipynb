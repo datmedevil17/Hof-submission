{
 "cells": [
  {
   "cell_type": "code",
   "execution_count": 1,
   "metadata": {},
   "outputs": [],
   "source": [
    "import segno"
   ]
  },
  {
   "cell_type": "code",
   "execution_count": 20,
   "metadata": {},
   "outputs": [],
   "source": [
    "import segno\n",
    "import json\n",
    "arr = {\n",
    "    \"id\": \"47847398732727773248\",\n",
    "    \"name\": \"airpods\",\n",
    "}\n",
    "\n",
    "json_string = json.dumps(arr)\n",
    "\n",
    "\n",
    "qrcode = segno.make_qr(json_string)\n",
    "\n",
    "\n",
    "qrcode.save(\"basic_qr.png\",\n",
    "            scale=5, border=5)\n"
   ]
  },
  {
   "cell_type": "markdown",
   "metadata": {},
   "source": [
    "Decode the obtained data\n"
   ]
  },
  {
   "cell_type": "code",
   "execution_count": null,
   "metadata": {},
   "outputs": [],
   "source": [
    "import json\n",
    "\n",
    "scanned_data = \"...\"  \n",
    "\n",
    "decoded_object = json.loads(scanned_data)\n",
    "\n",
    "print(decoded_object)\n"
   ]
  },
  {
   "cell_type": "code",
   "execution_count": null,
   "metadata": {},
   "outputs": [],
   "source": []
  }
 ],
 "metadata": {
  "kernelspec": {
   "display_name": "Python 3",
   "language": "python",
   "name": "python3"
  },
  "language_info": {
   "codemirror_mode": {
    "name": "ipython",
    "version": 3
   },
   "file_extension": ".py",
   "mimetype": "text/x-python",
   "name": "python",
   "nbconvert_exporter": "python",
   "pygments_lexer": "ipython3",
   "version": "3.11.5"
  }
 },
 "nbformat": 4,
 "nbformat_minor": 2
}
